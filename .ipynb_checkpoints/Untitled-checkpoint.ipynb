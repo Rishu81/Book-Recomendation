{
 "cells": [
  {
   "cell_type": "markdown",
   "id": "4a2fc7d6-52c5-4587-ac78-250993a0e763",
   "metadata": {},
   "source": [
    "#BOOK RECOMENDER USING CLUSTERING"
   ]
  },
  {
   "cell_type": "code",
   "execution_count": null,
   "id": "1ea52a9f-ca45-4373-a756-915e10e5ded5",
   "metadata": {},
   "outputs": [],
   "source": []
  }
 ],
 "metadata": {
  "kernelspec": {
   "display_name": "Python 3 (ipykernel)",
   "language": "python",
   "name": "python3"
  },
  "language_info": {
   "codemirror_mode": {
    "name": "ipython",
    "version": 3
   },
   "file_extension": ".py",
   "mimetype": "text/x-python",
   "name": "python",
   "nbconvert_exporter": "python",
   "pygments_lexer": "ipython3",
   "version": "3.12.4"
  }
 },
 "nbformat": 4,
 "nbformat_minor": 5
}
